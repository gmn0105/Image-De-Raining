{
 "cells": [
  {
   "cell_type": "code",
   "execution_count": 1,
   "metadata": {},
   "outputs": [
    {
     "ename": "ModuleNotFoundError",
     "evalue": "No module named 'tensorflow'",
     "output_type": "error",
     "traceback": [
      "\u001b[0;31m---------------------------------------------------------------------------\u001b[0m",
      "\u001b[0;31mModuleNotFoundError\u001b[0m                       Traceback (most recent call last)",
      "\u001b[0;32m<ipython-input-1-b266c0bc221a>\u001b[0m in \u001b[0;36m<module>\u001b[0;34m()\u001b[0m\n\u001b[0;32m----> 1\u001b[0;31m \u001b[0;32mfrom\u001b[0m \u001b[0mcode2\u001b[0m \u001b[0;32mimport\u001b[0m \u001b[0;34m*\u001b[0m\u001b[0;34m\u001b[0m\u001b[0m\n\u001b[0m\u001b[1;32m      2\u001b[0m \u001b[0;32mimport\u001b[0m \u001b[0mtensorflow\u001b[0m \u001b[0;32mas\u001b[0m \u001b[0mtf\u001b[0m\u001b[0;34m\u001b[0m\u001b[0m\n\u001b[1;32m      3\u001b[0m \u001b[0;32mimport\u001b[0m \u001b[0mpickle\u001b[0m\u001b[0;34m\u001b[0m\u001b[0m\n\u001b[1;32m      4\u001b[0m \u001b[0;32mimport\u001b[0m \u001b[0mmatplotlib\u001b[0m\u001b[0;34m.\u001b[0m\u001b[0mpyplot\u001b[0m \u001b[0;32mas\u001b[0m \u001b[0mplt\u001b[0m\u001b[0;34m\u001b[0m\u001b[0m\n\u001b[1;32m      5\u001b[0m \u001b[0;32mimport\u001b[0m \u001b[0mnumpy\u001b[0m \u001b[0;32mas\u001b[0m \u001b[0mnp\u001b[0m\u001b[0;34m\u001b[0m\u001b[0m\n",
      "\u001b[0;32m/home/pankaj/Downloads/NNFL/purana/code2.py\u001b[0m in \u001b[0;36m<module>\u001b[0;34m()\u001b[0m\n\u001b[0;32m----> 1\u001b[0;31m \u001b[0;32mimport\u001b[0m \u001b[0mtensorflow\u001b[0m \u001b[0;32mas\u001b[0m \u001b[0mtf\u001b[0m\u001b[0;34m\u001b[0m\u001b[0m\n\u001b[0m\u001b[1;32m      2\u001b[0m \u001b[0;34m\u001b[0m\u001b[0m\n\u001b[1;32m      3\u001b[0m \u001b[0malpha\u001b[0m\u001b[0;34m=\u001b[0m\u001b[0;36m0\u001b[0m\u001b[0;34m\u001b[0m\u001b[0m\n\u001b[1;32m      4\u001b[0m \u001b[0;32mdef\u001b[0m \u001b[0mprelu\u001b[0m\u001b[0;34m(\u001b[0m\u001b[0mx\u001b[0m\u001b[0;34m)\u001b[0m\u001b[0;34m:\u001b[0m\u001b[0;34m\u001b[0m\u001b[0m\n\u001b[1;32m      5\u001b[0m     \u001b[0;32mglobal\u001b[0m \u001b[0malpha\u001b[0m\u001b[0;34m\u001b[0m\u001b[0m\n",
      "\u001b[0;31mModuleNotFoundError\u001b[0m: No module named 'tensorflow'"
     ]
    }
   ],
   "source": [
    "from code2 import *\n",
    "import tensorflow as tf\n",
    "import pickle\n",
    "import matplotlib.pyplot as plt\n",
    "import numpy as np\n",
    "# import vgg16\n",
    "import cv2\n",
    "\n",
    "with tf.device(\"/cpu:0\"):\n",
    "\t# with open('rainWale.pkl', 'rb') as f:\n",
    "\t# \tloadedImages = pickle.load(f)\n",
    "\t# Ximgs=np.array(loadedImages)\n",
    "\n",
    "\t# with open('binaRainWale.pkl', 'rb') as f:\n",
    "\t# \tloadedImages = pickle.load(f)\n",
    "\t# Yimgs=np.array(loadedImages)\n",
    "\n",
    "\timages = []\n",
    "\tfor i in range(1,701):\n",
    "\t\ts=\"/my_data/\" + str(i)+'.jpg'\n",
    "\t\timages.append(plt.imread(s))\n",
    "\n",
    "\tinputImage=[]\n",
    "\toutputImage=[]\n",
    "\tfor image in images:\n",
    "\t\timgReal=image[:,:int(image.shape[1]/2),:]\n",
    "\t\timgFin=image[:,-int(image.shape[1]/2):,:]\n",
    "\t\ti=cv2.resize(imgReal,(256,256))\n",
    "\t\tj=cv2.resize(imgFin,(256,256))\n",
    "\t\tinputImage.append(j)\n",
    "\t\toutputImage.append(i)\n",
    "\n",
    "\tXimgs = np.array(inputImage)\n",
    "\tYimgs = np.array(outputImage)\n",
    "\n",
    "\n",
    "\n",
    "#This is the defines the generator, with input as Ximgs(image with rain)\n"
   ]
  },
  {
   "cell_type": "code",
   "execution_count": null,
   "metadata": {
    "collapsed": true
   },
   "outputs": [],
   "source": [
    "\n",
    "G=Generator()\n",
    "X=tf.placeholder(tf.float32,shape=[None,256,256,3])\n",
    "Y=tf.placeholder(tf.float32,shape=[None,256,256,3])\n",
    "# X=tf.reshape(Ximgs,[-1,256,256,3])\n",
    "conv1Out=G.addConvLayer(X,3,64)\n",
    "conv2Out=G.addConvLayer(conv1Out,64,64)\n",
    "conv3Out=G.addConvLayer(conv2Out,64,64)\n",
    "conv4Out=G.addConvLayer(conv3Out,64,64)\n",
    "conv5Out=G.addConvLayer(conv4Out,64,32)\n",
    "conv6Out=G.addConvLayer(conv5Out,32,1)\n",
    "deconv1Out=G.addDeConvLayer(conv6Out,1,32)\n",
    "deconv2Out=G.addDeConvLayer(deconv1Out,32,64) + conv4Out\n",
    "deconv3Out=G.addDeConvLayer(deconv2Out,64,64)\n",
    "deconv4Out=G.addDeConvLayer(deconv3Out,64,64) + conv2Out\n",
    "deconv5Out=G.addDeConvLayer(deconv4Out,64,64)\n",
    "GX=G.addDeConvLayer(deconv5Out,64,3) + X\n",
    "\n",
    "##########################################################\n",
    "\n",
    "\n",
    "#This defines the discriminator, with input as Y(original image without rain)\n",
    "\n",
    "D=Generator()\n",
    "Dconv1Out=D.addConvLayer(Y,3,48,strideX=2, strideY=2,filterSize=4,BN=False)\n",
    "Dconv2Out=D.addConvLayer(Dconv1Out,48,96,strideX=2, strideY=2,filterSize=4)\n",
    "Dconv3Out=D.addConvLayer(Dconv2Out,96,192,strideX=2, strideY=2,filterSize=4)\n",
    "Dconv4Out=D.addConvLayer(Dconv3Out,192,384,strideX=1, strideY=1,filterSize=4)\n",
    "Dconv5Out=D.addConvLayer(Dconv4Out,384,1,strideX=1, strideY=1,filterSize=4,BN=False,PRelu=False)\n",
    "DY = D.addDeepNet(Dconv5Out)\n",
    "\n",
    "Le = tf.reduce_mean(tf.squared_difference(GX,Y))\n",
    "La_Y = -tf.reduce_mean(tf.log(DY))\n",
    "DX_ = D.forward(GX)\n",
    "La_X_ = -tf.reduce_mean(tf.log(1-DX_))\n",
    "La = La_Y + La_X_\n",
    "\n",
    "# for i in range(100):\n",
    "\n",
    "\n",
    "\n",
    "#Le = tf.reduce_mean(tf.squared_difference(GX,Y))\n",
    "#La = \n",
    "\n",
    "#finding D of original image\n",
    "# D.setInput(Y)\n",
    "# Dori = tf.nn.sigmoid(D.forward(Y))\n",
    "# Lp = (tf.reduce_mean(tf.squared_difference(DY,Dori)))\n",
    "L = 0.0066 * La + Le \n",
    "\n",
    "solver =  tf.train.AdamOptimizer().minimize(L)\n",
    "saver=tf.train.Saver()\n",
    "\n",
    "sess = tf.InteractiveSession()\n",
    "sess.run(tf.global_variables_initializer())\n",
    "\n",
    "\n",
    "\n",
    "# img=sess.run(genImg,feed_dict={X:Ximgs[:5]})\n",
    "# plt.imshow((img[1]).astype(np.uint8))\n"
   ]
  },
  {
   "cell_type": "code",
   "execution_count": null,
   "metadata": {
    "collapsed": true
   },
   "outputs": [],
   "source": [
    "for i in range(1000):\n",
    "\tprint(\"idhar pohoch gaya \",i)\n",
    "\tfinalLoss=sess.run(solver,feed_dict={X:Ximgs[:7],Y:Yimgs[:7]})\n",
    "\n",
    "save_path = saver.save(sess, \"/output/model1.ckpt\")\n",
    "print(\"Model saved in file: %s\" % save_path)\n",
    "\n",
    "for i in range(1000):\n",
    "\tprint(\"idhar pohoch gaya \",i+1000)\n",
    "\tfinalLoss=sess.run(solver,feed_dict={X:Ximgs[7:14],Y:Yimgs[7:14]})\n",
    "\n",
    "save_path = saver.save(sess, \"/output/model2.ckpt\")\n",
    "print(\"Model saved in file: %s\" % save_path)\n"
   ]
  }
 ],
 "metadata": {
  "kernelspec": {
   "display_name": "Python 3",
   "language": "python",
   "name": "python3"
  },
  "language_info": {
   "codemirror_mode": {
    "name": "ipython",
    "version": 3
   },
   "file_extension": ".py",
   "mimetype": "text/x-python",
   "name": "python",
   "nbconvert_exporter": "python",
   "pygments_lexer": "ipython3",
   "version": "3.6.3"
  }
 },
 "nbformat": 4,
 "nbformat_minor": 2
}
